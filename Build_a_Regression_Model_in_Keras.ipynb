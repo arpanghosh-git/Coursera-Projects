{
  "cells": [
    {
      "cell_type": "markdown",
      "metadata": {
        "id": "7jWq4C--iO6q"
      },
      "source": [
        "# Peer-graded Assignment: Build a Regression Model in Keras"
      ]
    },
    {
      "cell_type": "markdown",
      "metadata": {
        "id": "BAmP3TS69COh"
      },
      "source": [
        "The Data Set https://cocl.us/concrete_data.\n",
        "\n",
        "1. Cement\n",
        "2. Blast Furnace Slag\n",
        "3. Fly Ash\n",
        "4. Water\n",
        "5. Superplasticizer\n",
        "6. Coarse Aggregate\n",
        "7. Fine Aggregate\n",
        "\n",
        "\n",
        "\n",
        "\n",
        "\n",
        "\n",
        "\n",
        "\n"
      ]
    },
    {
      "cell_type": "markdown",
      "metadata": {
        "id": "QjsOBy2VBvJP"
      },
      "source": [
        "Loading the dataset from the given url"
      ]
    },
    {
      "cell_type": "code",
      "execution_count": null,
      "metadata": {
        "colab": {
          "base_uri": "https://localhost:8080/",
          "height": 223
        },
        "id": "NgqTpQesBHzR",
        "outputId": "a0656412-df97-480d-d994-04902559562f"
      },
      "outputs": [
        {
          "name": "stdout",
          "output_type": "stream",
          "text": [
            "The shape of the data set is :  (1030, 9)\n"
          ]
        },
        {
          "data": {
            "text/html": [
              "\n",
              "  <div id=\"df-321ebf11-9a72-400f-bd9d-c4256956120d\">\n",
              "    <div class=\"colab-df-container\">\n",
              "      <div>\n",
              "<style scoped>\n",
              "    .dataframe tbody tr th:only-of-type {\n",
              "        vertical-align: middle;\n",
              "    }\n",
              "\n",
              "    .dataframe tbody tr th {\n",
              "        vertical-align: top;\n",
              "    }\n",
              "\n",
              "    .dataframe thead th {\n",
              "        text-align: right;\n",
              "    }\n",
              "</style>\n",
              "<table border=\"1\" class=\"dataframe\">\n",
              "  <thead>\n",
              "    <tr style=\"text-align: right;\">\n",
              "      <th></th>\n",
              "      <th>Cement</th>\n",
              "      <th>Blast Furnace Slag</th>\n",
              "      <th>Fly Ash</th>\n",
              "      <th>Water</th>\n",
              "      <th>Superplasticizer</th>\n",
              "      <th>Coarse Aggregate</th>\n",
              "      <th>Fine Aggregate</th>\n",
              "      <th>Age</th>\n",
              "      <th>Strength</th>\n",
              "    </tr>\n",
              "  </thead>\n",
              "  <tbody>\n",
              "    <tr>\n",
              "      <th>0</th>\n",
              "      <td>540.0</td>\n",
              "      <td>0.0</td>\n",
              "      <td>0.0</td>\n",
              "      <td>162.0</td>\n",
              "      <td>2.5</td>\n",
              "      <td>1040.0</td>\n",
              "      <td>676.0</td>\n",
              "      <td>28</td>\n",
              "      <td>79.99</td>\n",
              "    </tr>\n",
              "    <tr>\n",
              "      <th>1</th>\n",
              "      <td>540.0</td>\n",
              "      <td>0.0</td>\n",
              "      <td>0.0</td>\n",
              "      <td>162.0</td>\n",
              "      <td>2.5</td>\n",
              "      <td>1055.0</td>\n",
              "      <td>676.0</td>\n",
              "      <td>28</td>\n",
              "      <td>61.89</td>\n",
              "    </tr>\n",
              "    <tr>\n",
              "      <th>2</th>\n",
              "      <td>332.5</td>\n",
              "      <td>142.5</td>\n",
              "      <td>0.0</td>\n",
              "      <td>228.0</td>\n",
              "      <td>0.0</td>\n",
              "      <td>932.0</td>\n",
              "      <td>594.0</td>\n",
              "      <td>270</td>\n",
              "      <td>40.27</td>\n",
              "    </tr>\n",
              "    <tr>\n",
              "      <th>3</th>\n",
              "      <td>332.5</td>\n",
              "      <td>142.5</td>\n",
              "      <td>0.0</td>\n",
              "      <td>228.0</td>\n",
              "      <td>0.0</td>\n",
              "      <td>932.0</td>\n",
              "      <td>594.0</td>\n",
              "      <td>365</td>\n",
              "      <td>41.05</td>\n",
              "    </tr>\n",
              "    <tr>\n",
              "      <th>4</th>\n",
              "      <td>198.6</td>\n",
              "      <td>132.4</td>\n",
              "      <td>0.0</td>\n",
              "      <td>192.0</td>\n",
              "      <td>0.0</td>\n",
              "      <td>978.4</td>\n",
              "      <td>825.5</td>\n",
              "      <td>360</td>\n",
              "      <td>44.30</td>\n",
              "    </tr>\n",
              "  </tbody>\n",
              "</table>\n",
              "</div>\n",
              "      <button class=\"colab-df-convert\" onclick=\"convertToInteractive('df-321ebf11-9a72-400f-bd9d-c4256956120d')\"\n",
              "              title=\"Convert this dataframe to an interactive table.\"\n",
              "              style=\"display:none;\">\n",
              "        \n",
              "  <svg xmlns=\"http://www.w3.org/2000/svg\" height=\"24px\"viewBox=\"0 0 24 24\"\n",
              "       width=\"24px\">\n",
              "    <path d=\"M0 0h24v24H0V0z\" fill=\"none\"/>\n",
              "    <path d=\"M18.56 5.44l.94 2.06.94-2.06 2.06-.94-2.06-.94-.94-2.06-.94 2.06-2.06.94zm-11 1L8.5 8.5l.94-2.06 2.06-.94-2.06-.94L8.5 2.5l-.94 2.06-2.06.94zm10 10l.94 2.06.94-2.06 2.06-.94-2.06-.94-.94-2.06-.94 2.06-2.06.94z\"/><path d=\"M17.41 7.96l-1.37-1.37c-.4-.4-.92-.59-1.43-.59-.52 0-1.04.2-1.43.59L10.3 9.45l-7.72 7.72c-.78.78-.78 2.05 0 2.83L4 21.41c.39.39.9.59 1.41.59.51 0 1.02-.2 1.41-.59l7.78-7.78 2.81-2.81c.8-.78.8-2.07 0-2.86zM5.41 20L4 18.59l7.72-7.72 1.47 1.35L5.41 20z\"/>\n",
              "  </svg>\n",
              "      </button>\n",
              "      \n",
              "  <style>\n",
              "    .colab-df-container {\n",
              "      display:flex;\n",
              "      flex-wrap:wrap;\n",
              "      gap: 12px;\n",
              "    }\n",
              "\n",
              "    .colab-df-convert {\n",
              "      background-color: #E8F0FE;\n",
              "      border: none;\n",
              "      border-radius: 50%;\n",
              "      cursor: pointer;\n",
              "      display: none;\n",
              "      fill: #1967D2;\n",
              "      height: 32px;\n",
              "      padding: 0 0 0 0;\n",
              "      width: 32px;\n",
              "    }\n",
              "\n",
              "    .colab-df-convert:hover {\n",
              "      background-color: #E2EBFA;\n",
              "      box-shadow: 0px 1px 2px rgba(60, 64, 67, 0.3), 0px 1px 3px 1px rgba(60, 64, 67, 0.15);\n",
              "      fill: #174EA6;\n",
              "    }\n",
              "\n",
              "    [theme=dark] .colab-df-convert {\n",
              "      background-color: #3B4455;\n",
              "      fill: #D2E3FC;\n",
              "    }\n",
              "\n",
              "    [theme=dark] .colab-df-convert:hover {\n",
              "      background-color: #434B5C;\n",
              "      box-shadow: 0px 1px 3px 1px rgba(0, 0, 0, 0.15);\n",
              "      filter: drop-shadow(0px 1px 2px rgba(0, 0, 0, 0.3));\n",
              "      fill: #FFFFFF;\n",
              "    }\n",
              "  </style>\n",
              "\n",
              "      <script>\n",
              "        const buttonEl =\n",
              "          document.querySelector('#df-321ebf11-9a72-400f-bd9d-c4256956120d button.colab-df-convert');\n",
              "        buttonEl.style.display =\n",
              "          google.colab.kernel.accessAllowed ? 'block' : 'none';\n",
              "\n",
              "        async function convertToInteractive(key) {\n",
              "          const element = document.querySelector('#df-321ebf11-9a72-400f-bd9d-c4256956120d');\n",
              "          const dataTable =\n",
              "            await google.colab.kernel.invokeFunction('convertToInteractive',\n",
              "                                                     [key], {});\n",
              "          if (!dataTable) return;\n",
              "\n",
              "          const docLinkHtml = 'Like what you see? Visit the ' +\n",
              "            '<a target=\"_blank\" href=https://colab.research.google.com/notebooks/data_table.ipynb>data table notebook</a>'\n",
              "            + ' to learn more about interactive tables.';\n",
              "          element.innerHTML = '';\n",
              "          dataTable['output_type'] = 'display_data';\n",
              "          await google.colab.output.renderOutput(dataTable, element);\n",
              "          const docLink = document.createElement('div');\n",
              "          docLink.innerHTML = docLinkHtml;\n",
              "          element.appendChild(docLink);\n",
              "        }\n",
              "      </script>\n",
              "    </div>\n",
              "  </div>\n",
              "  "
            ],
            "text/plain": [
              "   Cement  Blast Furnace Slag  Fly Ash  ...  Fine Aggregate  Age  Strength\n",
              "0   540.0                 0.0      0.0  ...           676.0   28     79.99\n",
              "1   540.0                 0.0      0.0  ...           676.0   28     61.89\n",
              "2   332.5               142.5      0.0  ...           594.0  270     40.27\n",
              "3   332.5               142.5      0.0  ...           594.0  365     41.05\n",
              "4   198.6               132.4      0.0  ...           825.5  360     44.30\n",
              "\n",
              "[5 rows x 9 columns]"
            ]
          },
          "execution_count": 1,
          "metadata": {},
          "output_type": "execute_result"
        }
      ],
      "source": [
        "import pandas\n",
        "data_set = pandas.read_csv('https://s3-api.us-geo.objectstorage.softlayer.net/cf-courses-data/CognitiveClass/DL0101EN/labs/data/concrete_data.csv')\n",
        "data_set=pandas.DataFrame(data_set)\n",
        "print(\"The shape of the data set is : \" , data_set.shape)\n",
        "data_set.head()"
      ]
    },
    {
      "cell_type": "code",
      "execution_count": null,
      "metadata": {
        "colab": {
          "base_uri": "https://localhost:8080/"
        },
        "id": "ftrR7iaCiIFc",
        "outputId": "7e28490c-4ae1-436d-9142-71867ea71d5b"
      },
      "outputs": [
        {
          "name": "stdout",
          "output_type": "stream",
          "text": [
            "<class 'pandas.core.frame.DataFrame'>\n",
            "RangeIndex: 1030 entries, 0 to 1029\n",
            "Data columns (total 9 columns):\n",
            " #   Column              Non-Null Count  Dtype  \n",
            "---  ------              --------------  -----  \n",
            " 0   Cement              1030 non-null   float64\n",
            " 1   Blast Furnace Slag  1030 non-null   float64\n",
            " 2   Fly Ash             1030 non-null   float64\n",
            " 3   Water               1030 non-null   float64\n",
            " 4   Superplasticizer    1030 non-null   float64\n",
            " 5   Coarse Aggregate    1030 non-null   float64\n",
            " 6   Fine Aggregate      1030 non-null   float64\n",
            " 7   Age                 1030 non-null   int64  \n",
            " 8   Strength            1030 non-null   float64\n",
            "dtypes: float64(8), int64(1)\n",
            "memory usage: 72.5 KB\n"
          ]
        }
      ],
      "source": [
        "# Checking the structure of the data to get clarity on it\n",
        "data_set.info()"
      ]
    },
    {
      "cell_type": "markdown",
      "metadata": {
        "id": "LJ4GGNlMrnGf"
      },
      "source": [
        "Extracting the fetaures and separating the target variables"
      ]
    },
    {
      "cell_type": "code",
      "execution_count": null,
      "metadata": {
        "id": "5ZUsl-PfrmVP"
      },
      "outputs": [],
      "source": [
        "target_data=pandas.DataFrame(data_set[\"Strength\"])\n",
        "target_data.head()\n",
        "\n",
        "features_data=data_set\n",
        "features_data=pandas.DataFrame(features_data.drop(labels=[\"Strength\"], axis=1))"
      ]
    },
    {
      "cell_type": "markdown",
      "metadata": {
        "id": "WDe31hsZlm9i"
      },
      "source": [
        "Randomly split the data into a training and test sets by holding 70% for training and rest 30% for testing"
      ]
    },
    {
      "cell_type": "code",
      "execution_count": null,
      "metadata": {
        "colab": {
          "base_uri": "https://localhost:8080/"
        },
        "id": "xTCVi1_EmDPt",
        "outputId": "63a23e65-3477-4cab-ed24-396423cd674c"
      },
      "outputs": [
        {
          "name": "stdout",
          "output_type": "stream",
          "text": [
            "Shape of Train features :  (721, 8)\n",
            "Shape of Train targets :  (721, 1)\n",
            "Shape of Test features :  (309, 8)\n",
            "Shape of Test target :  (309, 1)\n"
          ]
        }
      ],
      "source": [
        "from sklearn import model_selection\n",
        "\n",
        "'''selecting random 30 % for testing'''\n",
        "test_size=0.3  \n",
        "\n",
        "train_features, test_features, train_target, test_target=model_selection.train_test_split(features_data, target_data, test_size=test_size, random_state=42)\n",
        "\n",
        "#Printing the shapes of Train and test data\n",
        "print(\"Shape of Train features : \", train_features.shape)\n",
        "print(\"Shape of Train targets : \", train_target.shape)\n",
        "print(\"Shape of Test features : \", test_features.shape)\n",
        "print(\"Shape of Test target : \", test_target.shape)"
      ]
    },
    {
      "cell_type": "markdown",
      "metadata": {
        "id": "lQfXueiSJLwn"
      },
      "source": [
        "Making the regression model"
      ]
    },
    {
      "cell_type": "code",
      "execution_count": null,
      "metadata": {
        "id": "jDPGDKWFMQVN"
      },
      "outputs": [],
      "source": [
        "import keras\n",
        "from keras import Sequential\n",
        "from keras.layers import Dense"
      ]
    },
    {
      "cell_type": "code",
      "execution_count": null,
      "metadata": {
        "id": "ChW-vCWqKZLr"
      },
      "outputs": [],
      "source": [
        "def regression_model():\n",
        "  model=Sequential()\n",
        "  model.add(Dense(units=10, input_shape=(train_features.shape[1],), activation=\"relu\"))\n",
        "  model.add(Dense(units=1))\n",
        "  return model"
      ]
    },
    {
      "cell_type": "code",
      "execution_count": null,
      "metadata": {
        "colab": {
          "base_uri": "https://localhost:8080/"
        },
        "id": "Wzkr4g0ZesIs",
        "outputId": "731b07d3-2697-4bc9-a75d-41ff8e8428ba"
      },
      "outputs": [
        {
          "name": "stdout",
          "output_type": "stream",
          "text": [
            "Model: \"sequential\"\n",
            "_________________________________________________________________\n",
            " Layer (type)                Output Shape              Param #   \n",
            "=================================================================\n",
            " dense (Dense)               (None, 10)                90        \n",
            "                                                                 \n",
            " dense_1 (Dense)             (None, 1)                 11        \n",
            "                                                                 \n",
            "=================================================================\n",
            "Total params: 101\n",
            "Trainable params: 101\n",
            "Non-trainable params: 0\n",
            "_________________________________________________________________\n"
          ]
        }
      ],
      "source": [
        "model=regression_model()\n",
        "model.summary()"
      ]
    },
    {
      "cell_type": "code",
      "execution_count": null,
      "metadata": {
        "id": "i03wn7G3fYnp"
      },
      "outputs": [],
      "source": [
        "# Compile the model\n",
        "from sklearn import metrics\n",
        "model.compile(optimizer=\"adam\", loss=\"mean_squared_error\", metrics=['accuracy'])"
      ]
    },
    {
      "cell_type": "markdown",
      "metadata": {
        "id": "_w-3wHmy_b1D"
      },
      "source": [
        "Training the data using this model with 50 epochs"
      ]
    },
    {
      "cell_type": "code",
      "execution_count": null,
      "metadata": {
        "colab": {
          "base_uri": "https://localhost:8080/"
        },
        "id": "vWAGt1UBe9JI",
        "outputId": "5e104361-0d61-4a9e-97f0-63c423fddd2f"
      },
      "outputs": [
        {
          "name": "stdout",
          "output_type": "stream",
          "text": [
            "Epoch 1/50\n",
            "721/721 - 1s - loss: 11020.7598 - accuracy: 0.0000e+00 - 1s/epoch - 2ms/step\n",
            "Epoch 2/50\n",
            "721/721 - 1s - loss: 829.0121 - accuracy: 0.0000e+00 - 727ms/epoch - 1ms/step\n",
            "Epoch 3/50\n",
            "721/721 - 1s - loss: 233.5168 - accuracy: 0.0000e+00 - 729ms/epoch - 1ms/step\n",
            "Epoch 4/50\n",
            "721/721 - 1s - loss: 151.2924 - accuracy: 0.0000e+00 - 724ms/epoch - 1ms/step\n",
            "Epoch 5/50\n",
            "721/721 - 1s - loss: 145.2277 - accuracy: 0.0000e+00 - 713ms/epoch - 989us/step\n",
            "Epoch 6/50\n",
            "721/721 - 1s - loss: 142.2346 - accuracy: 0.0000e+00 - 735ms/epoch - 1ms/step\n",
            "Epoch 7/50\n",
            "721/721 - 1s - loss: 144.3619 - accuracy: 0.0000e+00 - 721ms/epoch - 999us/step\n",
            "Epoch 8/50\n",
            "721/721 - 1s - loss: 162.5622 - accuracy: 0.0000e+00 - 708ms/epoch - 982us/step\n",
            "Epoch 9/50\n",
            "721/721 - 1s - loss: 149.3405 - accuracy: 0.0000e+00 - 715ms/epoch - 992us/step\n",
            "Epoch 10/50\n",
            "721/721 - 1s - loss: 150.1974 - accuracy: 0.0000e+00 - 734ms/epoch - 1ms/step\n",
            "Epoch 11/50\n",
            "721/721 - 1s - loss: 148.6651 - accuracy: 0.0000e+00 - 717ms/epoch - 994us/step\n",
            "Epoch 12/50\n",
            "721/721 - 1s - loss: 154.3344 - accuracy: 0.0000e+00 - 722ms/epoch - 1ms/step\n",
            "Epoch 13/50\n",
            "721/721 - 1s - loss: 160.3677 - accuracy: 0.0000e+00 - 744ms/epoch - 1ms/step\n",
            "Epoch 14/50\n",
            "721/721 - 1s - loss: 146.3441 - accuracy: 0.0000e+00 - 721ms/epoch - 1000us/step\n",
            "Epoch 15/50\n",
            "721/721 - 1s - loss: 148.8149 - accuracy: 0.0000e+00 - 724ms/epoch - 1ms/step\n",
            "Epoch 16/50\n",
            "721/721 - 1s - loss: 153.7168 - accuracy: 0.0000e+00 - 715ms/epoch - 992us/step\n",
            "Epoch 17/50\n",
            "721/721 - 1s - loss: 141.7496 - accuracy: 0.0000e+00 - 724ms/epoch - 1ms/step\n",
            "Epoch 18/50\n",
            "721/721 - 1s - loss: 151.8704 - accuracy: 0.0000e+00 - 725ms/epoch - 1ms/step\n",
            "Epoch 19/50\n",
            "721/721 - 1s - loss: 151.2034 - accuracy: 0.0000e+00 - 730ms/epoch - 1ms/step\n",
            "Epoch 20/50\n",
            "721/721 - 1s - loss: 148.2588 - accuracy: 0.0000e+00 - 728ms/epoch - 1ms/step\n",
            "Epoch 21/50\n",
            "721/721 - 1s - loss: 157.7783 - accuracy: 0.0000e+00 - 707ms/epoch - 980us/step\n",
            "Epoch 22/50\n",
            "721/721 - 1s - loss: 140.4339 - accuracy: 0.0000e+00 - 731ms/epoch - 1ms/step\n",
            "Epoch 23/50\n",
            "721/721 - 1s - loss: 144.3653 - accuracy: 0.0000e+00 - 721ms/epoch - 1000us/step\n",
            "Epoch 24/50\n",
            "721/721 - 1s - loss: 145.8822 - accuracy: 0.0000e+00 - 723ms/epoch - 1ms/step\n",
            "Epoch 25/50\n",
            "721/721 - 1s - loss: 151.0606 - accuracy: 0.0000e+00 - 716ms/epoch - 992us/step\n",
            "Epoch 26/50\n",
            "721/721 - 1s - loss: 152.6762 - accuracy: 0.0000e+00 - 713ms/epoch - 989us/step\n",
            "Epoch 27/50\n",
            "721/721 - 1s - loss: 162.9988 - accuracy: 0.0000e+00 - 1s/epoch - 2ms/step\n",
            "Epoch 28/50\n",
            "721/721 - 1s - loss: 142.2375 - accuracy: 0.0000e+00 - 1s/epoch - 1ms/step\n",
            "Epoch 29/50\n",
            "721/721 - 1s - loss: 162.5579 - accuracy: 0.0000e+00 - 726ms/epoch - 1ms/step\n",
            "Epoch 30/50\n",
            "721/721 - 1s - loss: 169.2337 - accuracy: 0.0000e+00 - 728ms/epoch - 1ms/step\n",
            "Epoch 31/50\n",
            "721/721 - 1s - loss: 156.4329 - accuracy: 0.0000e+00 - 720ms/epoch - 999us/step\n",
            "Epoch 32/50\n",
            "721/721 - 1s - loss: 149.0490 - accuracy: 0.0000e+00 - 729ms/epoch - 1ms/step\n",
            "Epoch 33/50\n",
            "721/721 - 1s - loss: 153.8551 - accuracy: 0.0000e+00 - 717ms/epoch - 995us/step\n",
            "Epoch 34/50\n",
            "721/721 - 1s - loss: 135.6418 - accuracy: 0.0000e+00 - 734ms/epoch - 1ms/step\n",
            "Epoch 35/50\n",
            "721/721 - 1s - loss: 136.5734 - accuracy: 0.0000e+00 - 704ms/epoch - 976us/step\n",
            "Epoch 36/50\n",
            "721/721 - 1s - loss: 147.1729 - accuracy: 0.0000e+00 - 735ms/epoch - 1ms/step\n",
            "Epoch 37/50\n",
            "721/721 - 1s - loss: 149.0662 - accuracy: 0.0000e+00 - 710ms/epoch - 985us/step\n",
            "Epoch 38/50\n",
            "721/721 - 1s - loss: 149.9995 - accuracy: 0.0000e+00 - 726ms/epoch - 1ms/step\n",
            "Epoch 39/50\n",
            "721/721 - 1s - loss: 137.7251 - accuracy: 0.0000e+00 - 720ms/epoch - 998us/step\n",
            "Epoch 40/50\n",
            "721/721 - 1s - loss: 151.2184 - accuracy: 0.0000e+00 - 718ms/epoch - 996us/step\n",
            "Epoch 41/50\n",
            "721/721 - 1s - loss: 140.8318 - accuracy: 0.0000e+00 - 725ms/epoch - 1ms/step\n",
            "Epoch 42/50\n",
            "721/721 - 1s - loss: 137.7014 - accuracy: 0.0000e+00 - 719ms/epoch - 997us/step\n",
            "Epoch 43/50\n",
            "721/721 - 1s - loss: 146.9578 - accuracy: 0.0000e+00 - 720ms/epoch - 999us/step\n",
            "Epoch 44/50\n",
            "721/721 - 1s - loss: 143.1883 - accuracy: 0.0000e+00 - 720ms/epoch - 998us/step\n",
            "Epoch 45/50\n",
            "721/721 - 1s - loss: 139.1394 - accuracy: 0.0000e+00 - 720ms/epoch - 998us/step\n",
            "Epoch 46/50\n",
            "721/721 - 1s - loss: 131.0124 - accuracy: 0.0000e+00 - 699ms/epoch - 970us/step\n",
            "Epoch 47/50\n",
            "721/721 - 1s - loss: 127.5134 - accuracy: 0.0000e+00 - 728ms/epoch - 1ms/step\n",
            "Epoch 48/50\n",
            "721/721 - 1s - loss: 125.6001 - accuracy: 0.0000e+00 - 719ms/epoch - 997us/step\n",
            "Epoch 49/50\n",
            "721/721 - 1s - loss: 126.7889 - accuracy: 0.0000e+00 - 728ms/epoch - 1ms/step\n",
            "Epoch 50/50\n",
            "721/721 - 1s - loss: 119.1550 - accuracy: 0.0000e+00 - 728ms/epoch - 1ms/step\n"
          ]
        },
        {
          "data": {
            "text/plain": [
              "<keras.callbacks.History at 0x7f26d05addd0>"
            ]
          },
          "execution_count": 9,
          "metadata": {},
          "output_type": "execute_result"
        }
      ],
      "source": [
        "model.fit(train_features, train_target, batch_size=1, epochs=50, verbose=2)"
      ]
    },
    {
      "cell_type": "markdown",
      "metadata": {
        "id": "54cgK0ak_wfj"
      },
      "source": [
        "Evaluating & Predicting the testing data using this model"
      ]
    },
    {
      "cell_type": "code",
      "execution_count": null,
      "metadata": {
        "colab": {
          "base_uri": "https://localhost:8080/"
        },
        "id": "oGXg9AnL88yh",
        "outputId": "77e4a008-44b7-4b28-83a0-342490df1e67"
      },
      "outputs": [
        {
          "name": "stdout",
          "output_type": "stream",
          "text": [
            "309/309 [==============================] - 0s 1ms/step - loss: 107.9721 - accuracy: 0.0000e+00\n"
          ]
        },
        {
          "data": {
            "text/plain": [
              "(309, 1)"
            ]
          },
          "execution_count": 10,
          "metadata": {},
          "output_type": "execute_result"
        }
      ],
      "source": [
        "model.evaluate(test_features,test_target, batch_size=1)\n",
        "predicted_target=model.predict(test_features,batch_size=1)\n",
        "predicted_target.shape"
      ]
    },
    {
      "cell_type": "markdown",
      "metadata": {
        "id": "6hDpnk-qBsBc"
      },
      "source": [
        "Calculating the mean square error value of actual target result and predicted target results"
      ]
    },
    {
      "cell_type": "code",
      "execution_count": null,
      "metadata": {
        "colab": {
          "base_uri": "https://localhost:8080/"
        },
        "id": "r_lDS9Virp9w",
        "outputId": "b8e5893b-3388-4a53-a956-7318ece99794"
      },
      "outputs": [
        {
          "name": "stdout",
          "output_type": "stream",
          "text": [
            "107.97205662901023\n"
          ]
        }
      ],
      "source": [
        "from sklearn.metrics import mean_squared_error\n",
        "import numpy\n",
        "\n",
        "mean_square_error=mean_squared_error(test_target,predicted_target)\n",
        "print(numpy.mean(mean_square_error))"
      ]
    },
    {
      "cell_type": "markdown",
      "metadata": {
        "id": "p5LqOIhmWGSE"
      },
      "source": [
        "# Initialization \n",
        "\n",
        "Importing all the required Packeges"
      ]
    },
    {
      "cell_type": "code",
      "execution_count": null,
      "metadata": {
        "id": "Y7QBcpSfWLX9"
      },
      "outputs": [],
      "source": [
        "import numpy\n",
        "import pandas\n",
        "from sklearn.metrics import mean_squared_error\n",
        "from sklearn import model_selection\n",
        "from sklearn import metrics\n",
        "import keras\n",
        "from keras import Sequential  \n",
        "from keras.layers import Dense"
      ]
    },
    {
      "cell_type": "markdown",
      "metadata": {
        "id": "e8fosMsoWcAD"
      },
      "source": [
        "# Part A\n",
        "\n",
        "Build a baseline model\n",
        "\n",
        "Use the Keras library to build a neural network with the following:\n",
        "\n",
        "- One hidden layer of 10 nodes, and a ReLU activation function\n",
        "\n",
        "- Use the adam optimizer and the mean squared error  as the loss function.\n",
        "\n",
        "1. Randomly split the data into a training and test sets by holding 30% of the data for testing. You can use the train_test_splithelper function from Scikit-learn.\n",
        "\n",
        "2. Train the model on the training data using 50 epochs.\n",
        "\n",
        "3. Evaluate the model on the test data and compute the mean squared error between the predicted concrete strength and the actual concrete strength. You can use the mean_squared_error function from Scikit-learn.\n",
        "\n",
        "4. Repeat steps 1 - 3, 50 times, i.e., create a list of 50 mean squared errors.\n",
        "\n",
        "5. Report the mean and the standard deviation of the mean squared errors.\n"
      ]
    },
    {
      "cell_type": "code",
      "execution_count": null,
      "metadata": {
        "colab": {
          "base_uri": "https://localhost:8080/"
        },
        "id": "RAb-ne_dWfMy",
        "outputId": "e86ed022-97d4-4eff-bd74-2853fbd49d72"
      },
      "outputs": [
        {
          "name": "stdout",
          "output_type": "stream",
          "text": [
            "Mean square error in iteartion  1  is :  57.83280379245655\n",
            "Mean square error in iteartion  2  is :  58.820195517389415\n",
            "Mean square error in iteartion  3  is :  82.28673572379606\n",
            "Mean square error in iteartion  4  is :  52.2081775772187\n",
            "Mean square error in iteartion  5  is :  50.86875224994031\n",
            "Mean square error in iteartion  6  is :  52.582685431371615\n",
            "Mean square error in iteartion  7  is :  51.93621163235091\n",
            "Mean square error in iteartion  8  is :  50.472883061511546\n",
            "Mean square error in iteartion  9  is :  51.23981518594639\n",
            "Mean square error in iteartion  10  is :  47.38105491686627\n",
            "Mean square error in iteartion  11  is :  52.58722752141526\n",
            "Mean square error in iteartion  12  is :  53.756874992813756\n",
            "Mean square error in iteartion  13  is :  51.414355071497056\n",
            "Mean square error in iteartion  14  is :  48.74326718197722\n",
            "Mean square error in iteartion  15  is :  48.22634816303259\n",
            "Mean square error in iteartion  16  is :  59.303897944932885\n",
            "Mean square error in iteartion  17  is :  45.780908289693585\n",
            "Mean square error in iteartion  18  is :  56.6234734543906\n",
            "Mean square error in iteartion  19  is :  52.10106569760155\n",
            "Mean square error in iteartion  20  is :  48.65517950808376\n",
            "Mean square error in iteartion  21  is :  44.447729055795556\n",
            "Mean square error in iteartion  22  is :  44.27933159744294\n",
            "Mean square error in iteartion  23  is :  47.039612162920086\n",
            "Mean square error in iteartion  24  is :  46.136245169286795\n",
            "Mean square error in iteartion  25  is :  45.763538836180174\n",
            "Mean square error in iteartion  26  is :  45.165402413031785\n",
            "Mean square error in iteartion  27  is :  44.12758823648298\n",
            "Mean square error in iteartion  28  is :  44.63044365854865\n",
            "Mean square error in iteartion  29  is :  44.8882428498514\n",
            "Mean square error in iteartion  30  is :  49.78144585713697\n",
            "Mean square error in iteartion  31  is :  44.192805440858436\n",
            "Mean square error in iteartion  32  is :  49.65366209098446\n",
            "Mean square error in iteartion  33  is :  44.90385951188239\n",
            "Mean square error in iteartion  34  is :  45.439317420439316\n",
            "Mean square error in iteartion  35  is :  43.270384270594136\n",
            "Mean square error in iteartion  36  is :  45.08438239711253\n",
            "Mean square error in iteartion  37  is :  44.225989141922405\n",
            "Mean square error in iteartion  38  is :  56.23666835800256\n",
            "Mean square error in iteartion  39  is :  48.979838427847625\n",
            "Mean square error in iteartion  40  is :  42.67377464670746\n",
            "Mean square error in iteartion  41  is :  43.985950241869105\n",
            "Mean square error in iteartion  42  is :  47.81425683626998\n",
            "Mean square error in iteartion  43  is :  41.852503683398616\n",
            "Mean square error in iteartion  44  is :  47.896302179165396\n",
            "Mean square error in iteartion  45  is :  44.3786627663355\n",
            "Mean square error in iteartion  46  is :  45.75565692671734\n",
            "Mean square error in iteartion  47  is :  45.481325759463466\n",
            "Mean square error in iteartion  48  is :  44.866155281215846\n",
            "Mean square error in iteartion  49  is :  44.90072772713631\n",
            "Mean square error in iteartion  50  is :  44.00648308385816\n"
          ]
        }
      ],
      "source": [
        "mean_square_errors=[]\n",
        "\n",
        "model_A=regression_model()\n",
        "\n",
        "for itr in range(0,50) :\n",
        "   train_features, test_features, train_target, test_target=model_selection.train_test_split(features_data, target_data, test_size=test_size, random_state=1)\n",
        "\n",
        "   model_A.compile(optimizer=\"adam\", loss=\"mean_squared_error\", metrics=['accuracy'])\n",
        "\n",
        "   model_A.fit(train_features, train_target, batch_size=1, epochs=50, verbose=0)\n",
        "\n",
        "   model_A.evaluate(test_features,test_target, batch_size=1, verbose=0)\n",
        "  \n",
        "   predicted_target=model_A.predict(test_features)\n",
        "\n",
        "   mean_square_error=mean_squared_error(test_target,predicted_target)\n",
        "  \n",
        "   mean_square_errors.append(mean_square_error)\n",
        "\n",
        "   print(\"Mean square error in iteartion \", (itr+1) , \" is : \" , numpy.mean(mean_square_error))\n",
        "\n",
        "mean_square_errors=numpy.array(mean_square_errors)"
      ]
    },
    {
      "cell_type": "markdown",
      "metadata": {
        "id": "KY2j5Hh5DQ4r"
      },
      "source": [
        "# **Output of Part A**"
      ]
    },
    {
      "cell_type": "code",
      "execution_count": null,
      "metadata": {
        "colab": {
          "base_uri": "https://localhost:8080/"
        },
        "id": "m0J4WahcDPry",
        "outputId": "24791fa2-0fa1-4f18-cb4b-1add38f292eb"
      },
      "outputs": [
        {
          "name": "stdout",
          "output_type": "stream",
          "text": [
            "The final mean square error is :  48.89360397885489\n",
            "The final standerd deviation is :  6.468662863225596\n"
          ]
        }
      ],
      "source": [
        "print(\"The final mean square error is : \", numpy.mean(mean_square_errors))\n",
        "\n",
        "print(\"The final standerd deviation is : \", numpy.std(mean_square_errors))"
      ]
    },
    {
      "cell_type": "code",
      "execution_count": null,
      "metadata": {
        "id": "RPUJAynlDbXO"
      },
      "outputs": [],
      "source": [
        "final_mean_square_error=numpy.mean(mean_square_errors)\n",
        "final_standerd_deviation=numpy.std(mean_square_errors)"
      ]
    },
    {
      "cell_type": "markdown",
      "metadata": {
        "id": "wzJAhHqzKCAt"
      },
      "source": [
        "# Part B\n",
        "\n",
        "Repeat Part A but use a normalized version of the data. Recall that one way to normalize the data is by subtracting the mean from the individual predictors and dividing by the standard deviation."
      ]
    },
    {
      "cell_type": "markdown",
      "metadata": {
        "id": "NfEXqNiBnwIp"
      },
      "source": [
        "Normalizing the data using the mean and the standered daviation from the output of **Part A** "
      ]
    },
    {
      "cell_type": "code",
      "execution_count": null,
      "metadata": {
        "id": "-Xz8Jrm9_NuZ"
      },
      "outputs": [],
      "source": [
        "def data_normalization():\n",
        "  normalized_features_data=[]\n",
        "\n",
        "  for index in range(0,len(features_data)) :\n",
        "    feature_record=features_data.iloc[index]\n",
        "    #print(feature_record)\n",
        "    for x in range(0,len(feature_record)) :\n",
        "      feature_record[x]=(feature_record[x]-final_mean_square_error)/final_standerd_deviation\n",
        "    normalized_features_data.append(feature_record)\n",
        "\n",
        "  normalized_features_data=pandas.DataFrame(normalized_features_data)\n",
        "  print(normalized_features_data.shape)\n",
        "  return normalized_features_data"
      ]
    },
    {
      "cell_type": "markdown",
      "metadata": {
        "id": "Z4G5ZfttnWMY"
      },
      "source": [
        "Calling the function data_normalization to normalize the data set "
      ]
    },
    {
      "cell_type": "code",
      "execution_count": null,
      "metadata": {
        "colab": {
          "base_uri": "https://localhost:8080/"
        },
        "id": "vhQIHi4GMONh",
        "outputId": "d8241a60-dd5a-467b-b33f-74ef44d04977"
      },
      "outputs": [
        {
          "name": "stderr",
          "output_type": "stream",
          "text": [
            "/usr/local/lib/python3.7/dist-packages/pandas/core/series.py:1056: SettingWithCopyWarning: \n",
            "A value is trying to be set on a copy of a slice from a DataFrame\n",
            "\n",
            "See the caveats in the documentation: https://pandas.pydata.org/pandas-docs/stable/user_guide/indexing.html#returning-a-view-versus-a-copy\n",
            "  cacher_needs_updating = self._check_is_chained_assignment_possible()\n"
          ]
        },
        {
          "name": "stdout",
          "output_type": "stream",
          "text": [
            "(1030, 8)\n"
          ]
        }
      ],
      "source": [
        "normalized_features_data=data_normalization()"
      ]
    },
    {
      "cell_type": "markdown",
      "metadata": {
        "id": "PrhU8wuhoZ2x"
      },
      "source": [
        "Running the regression model 50 times with 50 training epochs each on normalized dataset by splitting it randomly(70% for training and rest 30% for testing)  "
      ]
    },
    {
      "cell_type": "code",
      "execution_count": null,
      "metadata": {
        "colab": {
          "base_uri": "https://localhost:8080/"
        },
        "id": "80ITjqL-IxeH",
        "outputId": "627b3322-d263-4a81-f9ca-252477878efe"
      },
      "outputs": [
        {
          "name": "stdout",
          "output_type": "stream",
          "text": [
            "Mean square error in iteartion  1  is :  55.193500990091515\n",
            "Mean square error in iteartion  2  is :  53.32041875956533\n",
            "Mean square error in iteartion  3  is :  55.14519024075754\n",
            "Mean square error in iteartion  4  is :  55.488413030724246\n",
            "Mean square error in iteartion  5  is :  55.61452491301165\n",
            "Mean square error in iteartion  6  is :  63.69207518542759\n",
            "Mean square error in iteartion  7  is :  54.21889264985391\n",
            "Mean square error in iteartion  8  is :  54.626405214888415\n",
            "Mean square error in iteartion  9  is :  57.614398858246894\n",
            "Mean square error in iteartion  10  is :  50.77864923872953\n",
            "Mean square error in iteartion  11  is :  59.152405653397615\n",
            "Mean square error in iteartion  12  is :  51.98501749453351\n",
            "Mean square error in iteartion  13  is :  51.6465547052872\n",
            "Mean square error in iteartion  14  is :  66.52052420264039\n",
            "Mean square error in iteartion  15  is :  53.87802681608009\n",
            "Mean square error in iteartion  16  is :  48.566757952388215\n",
            "Mean square error in iteartion  17  is :  53.631606382026156\n",
            "Mean square error in iteartion  18  is :  47.687975113869314\n",
            "Mean square error in iteartion  19  is :  46.61189863060774\n",
            "Mean square error in iteartion  20  is :  47.0557062398904\n",
            "Mean square error in iteartion  21  is :  45.42413287121566\n",
            "Mean square error in iteartion  22  is :  45.43222646741287\n",
            "Mean square error in iteartion  23  is :  48.00683777907661\n",
            "Mean square error in iteartion  24  is :  48.17938890884413\n",
            "Mean square error in iteartion  25  is :  47.76396159697684\n",
            "Mean square error in iteartion  26  is :  44.74746148777184\n",
            "Mean square error in iteartion  27  is :  46.17434893381932\n",
            "Mean square error in iteartion  28  is :  44.973770405602444\n",
            "Mean square error in iteartion  29  is :  46.84453369081163\n",
            "Mean square error in iteartion  30  is :  45.25793283913657\n",
            "Mean square error in iteartion  31  is :  50.74911329089908\n",
            "Mean square error in iteartion  32  is :  45.3891441299375\n",
            "Mean square error in iteartion  33  is :  44.80884571104908\n",
            "Mean square error in iteartion  34  is :  44.87446904087169\n",
            "Mean square error in iteartion  35  is :  46.29933650627346\n",
            "Mean square error in iteartion  36  is :  45.882240955712334\n",
            "Mean square error in iteartion  37  is :  45.80458782540417\n",
            "Mean square error in iteartion  38  is :  43.97890336584008\n",
            "Mean square error in iteartion  39  is :  44.9105903719572\n",
            "Mean square error in iteartion  40  is :  43.462845914774505\n",
            "Mean square error in iteartion  41  is :  44.26375699987685\n",
            "Mean square error in iteartion  42  is :  49.53037419789019\n",
            "Mean square error in iteartion  43  is :  46.863973992456714\n",
            "Mean square error in iteartion  44  is :  44.42657389879082\n",
            "Mean square error in iteartion  45  is :  44.265447765050794\n",
            "Mean square error in iteartion  46  is :  45.812783538719\n",
            "Mean square error in iteartion  47  is :  46.939422249925784\n",
            "Mean square error in iteartion  48  is :  44.94771106091849\n",
            "Mean square error in iteartion  49  is :  43.83679207863236\n",
            "Mean square error in iteartion  50  is :  46.448266331526945\n"
          ]
        }
      ],
      "source": [
        "test_size=0.3\n",
        "\n",
        "mean_square_errors=[]\n",
        "\n",
        "model_B=regression_model()\n",
        "\n",
        "for itr in range(0,50) :\n",
        "   train_features, test_features, train_target, test_target=model_selection.train_test_split(normalized_features_data, target_data, test_size=test_size, random_state=1)\n",
        "\n",
        "   model_B.compile(optimizer=\"adam\", loss=\"mean_squared_error\", metrics=['accuracy'])\n",
        "\n",
        "   model_B.fit(train_features, train_target, batch_size=1, epochs=50, verbose=0)\n",
        "\n",
        "   model_B.evaluate(test_features,test_target, batch_size=1, verbose=0)\n",
        "  \n",
        "   predicted_target=model_B.predict(test_features)\n",
        "\n",
        "   mean_square_error=mean_squared_error(test_target,predicted_target)\n",
        "  \n",
        "   mean_square_errors.append(mean_square_error)\n",
        "\n",
        "   print(\"Mean square error in iteartion \", (itr+1) , \" is : \" , numpy.mean(mean_square_error))\n",
        "\n",
        "mean_square_errors=numpy.array(mean_square_errors)"
      ]
    },
    {
      "cell_type": "markdown",
      "metadata": {
        "id": "PXaeJAW_pw9F"
      },
      "source": [
        "# **Output of Part B**"
      ]
    },
    {
      "cell_type": "code",
      "execution_count": null,
      "metadata": {
        "colab": {
          "base_uri": "https://localhost:8080/"
        },
        "id": "mgn6Oevhp7MS",
        "outputId": "a267801b-1971-4aa5-fe1a-b4221b77cc8c"
      },
      "outputs": [
        {
          "name": "stdout",
          "output_type": "stream",
          "text": [
            "The final mean square error is :  49.17457432958385\n",
            "The final standerd deviation is :  5.269857963327463\n"
          ]
        }
      ],
      "source": [
        "print(\"The final mean square error is : \", numpy.mean(mean_square_errors))\n",
        "\n",
        "print(\"The final standerd deviation is : \", numpy.std(mean_square_errors))"
      ]
    },
    {
      "cell_type": "markdown",
      "metadata": {
        "id": "pHgwQQIhQr_W"
      },
      "source": [
        "# Part C\n",
        "\n",
        "Increse the number of epochs.\n",
        "\n",
        "Repeat Part B but **use 100 epochs this time for training.**"
      ]
    },
    {
      "cell_type": "code",
      "execution_count": null,
      "metadata": {
        "colab": {
          "background_save": true,
          "base_uri": "https://localhost:8080/"
        },
        "id": "FducNt3kSjs6",
        "outputId": "9eeae26f-ac49-47fe-9df5-0d4571ffb1ab"
      },
      "outputs": [
        {
          "name": "stdout",
          "output_type": "stream",
          "text": [
            "Mean square error in iteartion  1  is :  59.30906483138418\n",
            "Mean square error in iteartion  2  is :  57.27864486022164\n",
            "Mean square error in iteartion  3  is :  59.18023606513214\n",
            "Mean square error in iteartion  4  is :  61.89746832834945\n",
            "Mean square error in iteartion  5  is :  58.20014377042069\n",
            "Mean square error in iteartion  6  is :  60.105934975486534\n",
            "Mean square error in iteartion  7  is :  56.00017913543732\n",
            "Mean square error in iteartion  8  is :  53.45296198038375\n",
            "Mean square error in iteartion  9  is :  53.776436770072856\n",
            "Mean square error in iteartion  10  is :  55.61868132613834\n",
            "Mean square error in iteartion  11  is :  52.15504063538796\n",
            "Mean square error in iteartion  12  is :  54.75308387436882\n",
            "Mean square error in iteartion  13  is :  51.873110540746865\n",
            "Mean square error in iteartion  14  is :  56.49115365477417\n",
            "Mean square error in iteartion  15  is :  52.747549633588704\n",
            "Mean square error in iteartion  16  is :  53.582863563516135\n",
            "Mean square error in iteartion  17  is :  51.632785605825866\n",
            "Mean square error in iteartion  18  is :  51.19910095488199\n",
            "Mean square error in iteartion  19  is :  55.274102823058755\n",
            "Mean square error in iteartion  20  is :  55.33209624948645\n",
            "Mean square error in iteartion  21  is :  63.6918938469942\n",
            "Mean square error in iteartion  22  is :  72.96432799772592\n",
            "Mean square error in iteartion  23  is :  50.636038317073485\n",
            "Mean square error in iteartion  24  is :  54.06477107017611\n",
            "Mean square error in iteartion  25  is :  53.08263752106859\n",
            "Mean square error in iteartion  26  is :  51.53817664694664\n",
            "Mean square error in iteartion  27  is :  50.13758577824883\n",
            "Mean square error in iteartion  28  is :  63.2627394531517\n",
            "Mean square error in iteartion  29  is :  56.65469511586686\n",
            "Mean square error in iteartion  30  is :  50.18191610342716\n",
            "Mean square error in iteartion  31  is :  50.114275796007924\n",
            "Mean square error in iteartion  32  is :  49.868884337845685\n",
            "Mean square error in iteartion  33  is :  53.13075425070371\n",
            "Mean square error in iteartion  34  is :  56.16642612793163\n",
            "Mean square error in iteartion  35  is :  51.962972981045084\n",
            "Mean square error in iteartion  36  is :  52.85205651122993\n",
            "Mean square error in iteartion  37  is :  52.524287524238765\n",
            "Mean square error in iteartion  38  is :  53.21358699028803\n",
            "Mean square error in iteartion  39  is :  54.29050178989091\n",
            "Mean square error in iteartion  40  is :  49.84902731612123\n",
            "Mean square error in iteartion  41  is :  55.26078368117192\n",
            "Mean square error in iteartion  42  is :  50.07485146929723\n",
            "Mean square error in iteartion  43  is :  53.81405244115989\n",
            "Mean square error in iteartion  44  is :  50.5047107374837\n",
            "Mean square error in iteartion  45  is :  50.33676544040182\n",
            "Mean square error in iteartion  46  is :  51.77029288831516\n",
            "Mean square error in iteartion  47  is :  53.17287925805859\n",
            "Mean square error in iteartion  48  is :  52.13570087217355\n",
            "Mean square error in iteartion  49  is :  55.48298017268681\n",
            "Mean square error in iteartion  50  is :  50.71696205848129\n"
          ]
        }
      ],
      "source": [
        "test_size=0.3\n",
        "\n",
        "mean_square_errors=[]\n",
        "\n",
        "model_C=regression_model()\n",
        "\n",
        "for itr in range(0,50) :\n",
        "   train_features, test_features, train_target, test_target=model_selection.train_test_split(normalized_features_data, target_data, test_size=test_size, random_state=1)\n",
        "\n",
        "   model_C.compile(optimizer=\"adam\", loss=\"mean_squared_error\", metrics=['accuracy'])\n",
        "\n",
        "   model_C.fit(train_features, train_target, batch_size=1, epochs=100, verbose=0)\n",
        "\n",
        "   model_C.evaluate(test_features,test_target, batch_size=1, verbose=0)\n",
        "  \n",
        "   predicted_target=model_C.predict(test_features)\n",
        "\n",
        "   mean_square_error=mean_squared_error(test_target,predicted_target)\n",
        "  \n",
        "   mean_square_errors.append(mean_square_error)\n",
        "\n",
        "   print(\"Mean square error in iteartion \", (itr+1) , \" is : \" , numpy.mean(mean_square_error))\n",
        "\n",
        "mean_square_errors=numpy.array(mean_square_errors)"
      ]
    },
    {
      "cell_type": "markdown",
      "metadata": {
        "id": "Nx5pI1XxqJxa"
      },
      "source": [
        "# **Output of Part C**"
      ]
    },
    {
      "cell_type": "code",
      "execution_count": null,
      "metadata": {
        "colab": {
          "base_uri": "https://localhost:8080/"
        },
        "id": "Q0HiLFgyqLii",
        "outputId": "727eda95-146b-401d-b359-d1d681f541b2"
      },
      "outputs": [
        {
          "name": "stdout",
          "output_type": "stream",
          "text": [
            "The final mean square error is :  321.63574372530246\n",
            "The final standerd deviation is :  123.49328976494324\n"
          ]
        }
      ],
      "source": [
        "print(\"The final mean square error is : \", numpy.mean(mean_square_errors))\n",
        "\n",
        "print(\"The final standerd deviation is : \", numpy.std(mean_square_errors))"
      ]
    },
    {
      "cell_type": "markdown",
      "metadata": {
        "id": "sTfyqlWGVVRt"
      },
      "source": [
        "# Part D\n",
        "\n",
        "Increase the number of hidden layers\n",
        "\n",
        "Repeat part B but use a neural network with the following instead:\n",
        "\n",
        "- Three hidden layers, each of 10 nodes and ReLU activation function.\n",
        "\n"
      ]
    },
    {
      "cell_type": "code",
      "execution_count": null,
      "metadata": {
        "id": "xHAz1qFPiICa"
      },
      "outputs": [],
      "source": [
        "def regression_model_new():\n",
        "  model=Sequential()\n",
        "  model.add(Dense(units=10,input_shape=(train_features.shape[1],),activation=\"relu\"))\n",
        "  model.add(Dense(units=10,activation=\"relu\"))\n",
        "  model.add(Dense(units=10,activation=\"relu\"))\n",
        "  model.add(Dense(units=1))\n",
        "  return model"
      ]
    },
    {
      "cell_type": "code",
      "execution_count": null,
      "metadata": {
        "colab": {
          "base_uri": "https://localhost:8080/"
        },
        "id": "eKCmi-AnkGFi",
        "outputId": "ced04865-9281-4ecd-abf2-df0d319172d6"
      },
      "outputs": [
        {
          "name": "stdout",
          "output_type": "stream",
          "text": [
            "Model: \"sequential_5\"\n",
            "_________________________________________________________________\n",
            " Layer (type)                Output Shape              Param #   \n",
            "=================================================================\n",
            " dense_10 (Dense)            (None, 10)                90        \n",
            "                                                                 \n",
            " dense_11 (Dense)            (None, 10)                110       \n",
            "                                                                 \n",
            " dense_12 (Dense)            (None, 10)                110       \n",
            "                                                                 \n",
            " dense_13 (Dense)            (None, 1)                 11        \n",
            "                                                                 \n",
            "=================================================================\n",
            "Total params: 321\n",
            "Trainable params: 321\n",
            "Non-trainable params: 0\n",
            "_________________________________________________________________\n"
          ]
        }
      ],
      "source": [
        "model=regression_model_new()\n",
        "model.summary()"
      ]
    },
    {
      "cell_type": "code",
      "execution_count": null,
      "metadata": {
        "id": "nsBCjXG7X94n"
      },
      "outputs": [],
      "source": [
        "model.compile(optimizer=\"adam\", loss=\"mean_squared_error\", metrics=[\"accuracy\"])"
      ]
    },
    {
      "cell_type": "code",
      "execution_count": null,
      "metadata": {
        "colab": {
          "base_uri": "https://localhost:8080/"
        },
        "id": "1SwxFh5mlgnD",
        "outputId": "6e982c88-a48a-4c66-fad6-426c5f186228"
      },
      "outputs": [
        {
          "name": "stdout",
          "output_type": "stream",
          "text": [
            "Mean square error in iteartion  1  is :  207.08775806726157\n",
            "Mean square error in iteartion  2  is :  141.4623421083888\n",
            "Mean square error in iteartion  3  is :  132.33829934210289\n",
            "Mean square error in iteartion  4  is :  121.05805781189795\n",
            "Mean square error in iteartion  5  is :  116.12198558761894\n",
            "Mean square error in iteartion  6  is :  116.7825157715815\n",
            "Mean square error in iteartion  7  is :  94.03738151959841\n",
            "Mean square error in iteartion  8  is :  96.382119043428\n",
            "Mean square error in iteartion  9  is :  75.63309486435672\n",
            "Mean square error in iteartion  10  is :  87.09175800004309\n"
          ]
        }
      ],
      "source": [
        "test_size=0.3\n",
        "\n",
        "mean_square_errors=[]\n",
        "\n",
        "model_D=regression_model_new()\n",
        "\n",
        "for itr in range(0,50) :\n",
        "   train_features, test_features, train_target, test_target=model_selection.train_test_split(normalized_features_data, target_data, test_size=test_size, random_state=1)\n",
        "\n",
        "   model_D.compile(optimizer=\"adam\", loss=\"mean_squared_error\", metrics=['accuracy'])\n",
        "\n",
        "   model_D.fit(train_features, train_target, batch_size=1, epochs=50, verbose=0)\n",
        "\n",
        "   model_D.evaluate(test_features,test_target, batch_size=1, verbose=0)\n",
        "  \n",
        "   predicted_target=model_D.predict(test_features)\n",
        "\n",
        "   mean_square_error=mean_squared_error(test_target,predicted_target)\n",
        "  \n",
        "   mean_square_errors.append(mean_square_error)\n",
        "\n",
        "   print(\"Mean square error in iteartion \", (itr+1) , \" is : \" , numpy.mean(mean_square_error))\n",
        "\n",
        "mean_square_errors=numpy.array(mean_square_errors)"
      ]
    },
    {
      "cell_type": "markdown",
      "metadata": {
        "id": "Iu6aBPk-yCcq"
      },
      "source": [
        "# **Output of Part D**"
      ]
    },
    {
      "cell_type": "code",
      "execution_count": null,
      "metadata": {
        "colab": {
          "base_uri": "https://localhost:8080/"
        },
        "id": "E-5XDkK5yEPJ",
        "outputId": "1330f573-4c83-4bb0-9335-55d070a86f3b"
      },
      "outputs": [
        {
          "name": "stdout",
          "output_type": "stream",
          "text": [
            "The final mean square error is :  118.79953121162778\n",
            "The final standerd deviation is :  35.344701612056156\n"
          ]
        }
      ],
      "source": [
        "print(\"The final mean square error is : \", numpy.mean(mean_square_errors))\n",
        "\n",
        "print(\"The final standerd deviation is : \", numpy.std(mean_square_errors))"
      ]
    }
  ],
  "metadata": {
    "colab": {
      "name": "Build a Regression Model in Keras.ipynb",
      "provenance": []
    },
    "kernelspec": {
      "display_name": "Python 3",
      "name": "python3"
    },
    "language_info": {
      "name": "python"
    }
  },
  "nbformat": 4,
  "nbformat_minor": 0
}